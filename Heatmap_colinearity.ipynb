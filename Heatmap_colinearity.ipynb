{
 "cells": [
  {
   "cell_type": "markdown",
   "id": "65143960-6338-4847-84a4-c3c90de432e7",
   "metadata": {},
   "source": [
    "Heatmap sur la colinearites des différentes colonnes : "
   ]
  },
  {
   "cell_type": "code",
   "execution_count": null,
   "id": "c4d23887-e2f6-473d-83e4-7530170de9f0",
   "metadata": {},
   "outputs": [],
   "source": [
    "import pandas as pd\n",
    "import seaborn as sns\n",
    "import matplotlib.pyplot as plt"
   ]
  },
  {
   "cell_type": "code",
   "execution_count": null,
   "id": "fe690ebd-9921-41e2-a55c-27e04b32e913",
   "metadata": {},
   "outputs": [],
   "source": []
  }
 ],
 "metadata": {
  "kernelspec": {
   "display_name": "Python 3 (ipykernel)",
   "language": "python",
   "name": "python3"
  },
  "language_info": {
   "codemirror_mode": {
    "name": "ipython",
    "version": 3
   },
   "file_extension": ".py",
   "mimetype": "text/x-python",
   "name": "python",
   "nbconvert_exporter": "python",
   "pygments_lexer": "ipython3",
   "version": "3.10.13"
  }
 },
 "nbformat": 4,
 "nbformat_minor": 5
}
